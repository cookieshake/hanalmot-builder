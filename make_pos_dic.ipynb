{
 "cells": [
  {
   "cell_type": "code",
   "execution_count": 1,
   "metadata": {
    "collapsed": true
   },
   "outputs": [],
   "source": [
    "import simplejson as json\n",
    "parsed_corpus = open('parsed_corpus.txt', encoding='utf-8')\n",
    "\n",
    "pos_left = dict()\n",
    "pos_right = dict()"
   ]
  },
  {
   "cell_type": "code",
   "execution_count": 2,
   "metadata": {
    "collapsed": true
   },
   "outputs": [],
   "source": [
    "def process_sentence(stc):\n",
    "    tags = list()\n",
    "    for l in stc:\n",
    "        tags.extend([p['tag'] for p in l['pos']])\n",
    "        \n",
    "    for i, t in enumerate(tags):\n",
    "        if t == 'ZST':\n",
    "            left = None\n",
    "            right = right = tags[i + 1]\n",
    "        elif t == 'ZED':\n",
    "            left = left = tags[i - 1]\n",
    "            right = None\n",
    "        else:\n",
    "            left = tags[i - 1]\n",
    "            right = tags[i + 1]\n",
    "        \n",
    "        if t not in pos_left:\n",
    "            pos_left[t] = dict()\n",
    "        if t not in pos_right:\n",
    "            pos_right[t] = dict()\n",
    "        \n",
    "        if left is not None:\n",
    "            pos_left[t][left] = pos_left[t][left] + 1 if left in pos_left[t] else 1\n",
    "        if right is not None:\n",
    "            pos_right[t][right] = pos_right[t][right] + 1 if right in pos_right[t] else 1"
   ]
  },
  {
   "cell_type": "code",
   "execution_count": 3,
   "metadata": {},
   "outputs": [
    {
     "name": "stdout",
     "output_type": "stream",
     "text": [
      "10000\n",
      "20000\n",
      "30000\n",
      "40000\n",
      "50000\n",
      "60000\n",
      "70000\n",
      "80000\n",
      "90000\n",
      "100000\n",
      "110000\n",
      "120000\n",
      "130000\n",
      "140000\n",
      "150000\n",
      "160000\n",
      "170000\n",
      "180000\n",
      "190000\n",
      "200000\n",
      "210000\n",
      "220000\n",
      "230000\n",
      "240000\n",
      "250000\n",
      "260000\n",
      "270000\n",
      "280000\n",
      "290000\n",
      "300000\n",
      "310000\n",
      "320000\n",
      "330000\n",
      "340000\n",
      "350000\n",
      "360000\n",
      "370000\n",
      "380000\n",
      "390000\n",
      "400000\n",
      "410000\n",
      "420000\n",
      "430000\n",
      "440000\n",
      "450000\n",
      "460000\n",
      "470000\n",
      "480000\n",
      "490000\n",
      "500000\n",
      "510000\n",
      "520000\n",
      "530000\n",
      "540000\n",
      "550000\n",
      "560000\n",
      "570000\n",
      "580000\n",
      "590000\n",
      "600000\n",
      "610000\n",
      "620000\n",
      "630000\n",
      "640000\n",
      "650000\n",
      "660000\n",
      "670000\n",
      "680000\n",
      "690000\n",
      "700000\n",
      "710000\n",
      "720000\n",
      "730000\n",
      "740000\n",
      "750000\n",
      "760000\n",
      "770000\n",
      "780000\n",
      "790000\n",
      "800000\n",
      "810000\n"
     ]
    }
   ],
   "source": [
    "from tqdm import tqdm\n",
    "\n",
    "line = parsed_corpus.readline()\n",
    "count = 0\n",
    "while line != '' and line != '\\n':\n",
    "    process_sentence(json.loads(line))\n",
    "    del line\n",
    "    line = parsed_corpus.readline()\n",
    "    count += 1\n",
    "    if count % 10000 == 0:\n",
    "        print(count)"
   ]
  },
  {
   "cell_type": "code",
   "execution_count": 4,
   "metadata": {},
   "outputs": [
    {
     "data": {
      "text/plain": [
       "<sqlite3.Cursor at 0x7f83d433e110>"
      ]
     },
     "execution_count": 4,
     "metadata": {},
     "output_type": "execute_result"
    }
   ],
   "source": [
    "import sqlite3\n",
    "\n",
    "db = sqlite3.connect('dictionary.db')\n",
    "c = db.cursor()\n",
    "tokens = dict()\n",
    "\n",
    "c.execute('CREATE TABLE `left_pos` ( `pos` TEXT, `target` TEXT, `count` INTEGER )')\n",
    "c.execute('CREATE TABLE `right_pos` ( `pos` TEXT, `target` TEXT, `count` INTEGER )')\n"
   ]
  },
  {
   "cell_type": "code",
   "execution_count": 5,
   "metadata": {},
   "outputs": [],
   "source": [
    "for pos in pos_left:\n",
    "    for target in pos_left[pos]:\n",
    "        count = pos_left[pos][target]\n",
    "        c.execute('INSERT INTO left_pos VALUES (?, ?, ?)', (pos, target, count))\n",
    "\n",
    "for pos in pos_right:\n",
    "    for target in pos_right[pos]:\n",
    "        count = pos_right[pos][target]\n",
    "        c.execute('INSERT INTO right_pos VALUES (?, ?, ?)', (pos, target, count))\n",
    "        \n",
    "db.commit()\n",
    "db.close()"
   ]
  },
  {
   "cell_type": "code",
   "execution_count": null,
   "metadata": {
    "collapsed": true
   },
   "outputs": [],
   "source": []
  }
 ],
 "metadata": {
  "kernelspec": {
   "display_name": "Python 3",
   "language": "python",
   "name": "python3"
  },
  "language_info": {
   "codemirror_mode": {
    "name": "ipython",
    "version": 3
   },
   "file_extension": ".py",
   "mimetype": "text/x-python",
   "name": "python",
   "nbconvert_exporter": "python",
   "pygments_lexer": "ipython3",
   "version": "3.6.1"
  }
 },
 "nbformat": 4,
 "nbformat_minor": 2
}
