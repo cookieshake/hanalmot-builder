{
 "cells": [
  {
   "cell_type": "code",
   "execution_count": 1,
   "metadata": {
    "collapsed": true
   },
   "outputs": [],
   "source": [
    "import sqlite3\n",
    "\n",
    "db = sqlite3.connect('dictionary.db')\n",
    "c = db.cursor()\n",
    "tokens = dict()\n",
    "\n",
    "for t in c.execute('SELECT * FROM tokens'):\n",
    "    t_id = t[0]\n",
    "    letter = t[1]\n",
    "    pos = t[2]\n",
    "    tokens[(letter, pos)] = t_id"
   ]
  },
  {
   "cell_type": "code",
   "execution_count": 2,
   "metadata": {
    "collapsed": true
   },
   "outputs": [],
   "source": [
    "import simplejson as json\n",
    "parsed_corpus = open('parsed_corpus.txt', encoding='utf-8')\n",
    "\n",
    "sy_3lgram = dict()\n",
    "sy_3rgram = dict()\n",
    "sy_3gram= dict()"
   ]
  },
  {
   "cell_type": "code",
   "execution_count": 3,
   "metadata": {
    "collapsed": true
   },
   "outputs": [],
   "source": [
    "def process_sentence(stc):\n",
    "    stc.insert(0, {'letter': '<시작>', 'pos': [{'letter': '<시작>', 'tag': 'ZST'}]})\n",
    "    stc.append({'letter': '<끝>', 'pos': [{'letter': '<끝>', 'tag': 'ZED'}]})\n",
    "    \n",
    "    for i, l in enumerate(stc):\n",
    "        letter = l['letter']\n",
    "        pos = tuple((t['letter'], t['tag']) for t in l['pos'])\n",
    "        pos = tuple(tokens[p] for p in pos)\n",
    "        \n",
    "        if len(letter) > 1:\n",
    "            continue\n",
    "            \n",
    "        left3 = ''.join([l['letter'] for l in stc[i-2:i+1]])\n",
    "        center3 = ''.join([l['letter'] for l in stc[i-1:i+2]])\n",
    "        right3 = ''.join([l['letter'] for l in stc[i:i+3]])\n",
    "\n",
    "        if left3 not in sy_3lgram:\n",
    "            sy_3lgram[left3] = dict()\n",
    "        if center3 not in sy_3gram:\n",
    "            sy_3gram[center3] = dict()\n",
    "        if right3 not in sy_3rgram:\n",
    "            sy_3rgram[right3] = dict()\n",
    "            \n",
    "        sy_3lgram[left3][pos] = sy_3lgram[left3][pos] + 1 if pos in sy_3lgram[left3] else 1\n",
    "        sy_3gram[center3][pos] = sy_3gram[center3][pos] + 1 if pos in sy_3gram[center3] else 1\n",
    "        sy_3rgram[right3][pos] = sy_3rgram[right3][pos] + 1 if pos in sy_3rgram[right3] else 1"
   ]
  },
  {
   "cell_type": "code",
   "execution_count": 4,
   "metadata": {},
   "outputs": [
    {
     "name": "stdout",
     "output_type": "stream",
     "text": [
      "10000\n",
      "20000\n",
      "30000\n",
      "40000\n",
      "50000\n",
      "60000\n",
      "70000\n",
      "80000\n",
      "90000\n",
      "100000\n",
      "110000\n",
      "120000\n",
      "130000\n",
      "140000\n",
      "150000\n",
      "160000\n",
      "170000\n",
      "180000\n",
      "190000\n",
      "200000\n",
      "210000\n",
      "220000\n",
      "230000\n",
      "240000\n",
      "250000\n",
      "260000\n",
      "270000\n",
      "280000\n",
      "290000\n",
      "300000\n",
      "310000\n",
      "320000\n",
      "330000\n",
      "340000\n",
      "350000\n",
      "360000\n",
      "370000\n",
      "380000\n",
      "390000\n",
      "400000\n",
      "410000\n",
      "420000\n",
      "430000\n",
      "440000\n",
      "450000\n",
      "460000\n",
      "470000\n",
      "480000\n",
      "490000\n",
      "500000\n",
      "510000\n",
      "520000\n",
      "530000\n",
      "540000\n",
      "550000\n",
      "560000\n",
      "570000\n",
      "580000\n",
      "590000\n",
      "600000\n",
      "610000\n",
      "620000\n",
      "630000\n",
      "640000\n",
      "650000\n",
      "660000\n",
      "670000\n",
      "680000\n",
      "690000\n",
      "700000\n",
      "710000\n",
      "720000\n",
      "730000\n",
      "740000\n",
      "750000\n",
      "760000\n",
      "770000\n",
      "780000\n",
      "790000\n",
      "800000\n",
      "810000\n"
     ]
    }
   ],
   "source": [
    "line = parsed_corpus.readline()\n",
    "count = 0\n",
    "while line != '' and line != '\\n':\n",
    "    process_sentence(json.loads(line))\n",
    "    del line\n",
    "    line = parsed_corpus.readline()\n",
    "    count += 1\n",
    "    if count % 10000 == 0:\n",
    "        print(count)\n",
    "print(count)"
   ]
  },
  {
   "cell_type": "code",
   "execution_count": 5,
   "metadata": {
    "collapsed": true
   },
   "outputs": [],
   "source": [
    "c.execute('CREATE TABLE `left_3gram` ( `letter` TEXT, `tokens` TEXT, `count` INTEGER )')\n",
    "c.execute('CREATE INDEX `letter_left` ON `left_3gram` (`letter` ASC)')\n",
    "\n",
    "c.execute('CREATE TABLE `center_3gram` ( `letter` TEXT, `tokens` TEXT, `count` INTEGER )')\n",
    "c.execute('CREATE INDEX `letter_center` ON `center_3gram` (`letter` ASC)')\n",
    "\n",
    "c.execute('CREATE TABLE `right_3gram` ( `letter` TEXT, `tokens` TEXT, `count` INTEGER )')\n",
    "c.execute('CREATE INDEX `letter_right` ON `right_3gram` (`letter` ASC)')\n",
    "\n",
    "db.commit()"
   ]
  },
  {
   "cell_type": "code",
   "execution_count": 6,
   "metadata": {
    "collapsed": true
   },
   "outputs": [],
   "source": [
    "for gram in sy_3lgram:\n",
    "    letter = gram\n",
    "    for tokens, count in sy_3lgram[gram].items():\n",
    "        tokens_str = ','.join([str(t) for t in tokens])\n",
    "        c.execute('INSERT INTO `left_3gram` VALUES (?, ?, ?)', (letter, tokens_str, count))\n",
    "for gram in sy_3gram:\n",
    "    letter = gram\n",
    "    for tokens, count in sy_3gram[gram].items():\n",
    "        tokens_str = ','.join([str(t) for t in tokens])\n",
    "        c.execute('INSERT INTO `center_3gram` VALUES (?, ?, ?)', (letter, tokens_str, count))\n",
    "for gram in sy_3rgram:\n",
    "    letter = gram\n",
    "    for tokens, count in sy_3rgram[gram].items():\n",
    "        tokens_str = ','.join([str(t) for t in tokens])\n",
    "        c.execute('INSERT INTO `right_3gram` VALUES (?, ?, ?)', (letter, tokens_str, count))\n",
    "\n",
    "db.commit()\n",
    "db.close()"
   ]
  },
  {
   "cell_type": "code",
   "execution_count": null,
   "metadata": {
    "collapsed": true
   },
   "outputs": [],
   "source": []
  }
 ],
 "metadata": {
  "kernelspec": {
   "display_name": "Python 3",
   "language": "python",
   "name": "python3"
  },
  "language_info": {
   "codemirror_mode": {
    "name": "ipython",
    "version": 3
   },
   "file_extension": ".py",
   "mimetype": "text/x-python",
   "name": "python",
   "nbconvert_exporter": "python",
   "pygments_lexer": "ipython3",
   "version": "3.6.1"
  }
 },
 "nbformat": 4,
 "nbformat_minor": 2
}
